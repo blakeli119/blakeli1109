{
 "cells": [
  {
   "cell_type": "code",
   "execution_count": 4,
   "metadata": {},
   "outputs": [],
   "source": [
    "def quicksort(x):\n",
    "      if len(x) < 2:#第一行表示數列長度如果是1或0就return輸入的值\n",
    "          return x\n",
    "      else:\n",
    "          pivot = x[0]\n",
    "          smaller = [i for i in x[1:] if i <= pivot]#統一用數列的第一個數作為pivot，比pivot小的放smaller[]裡，大的放bigger[]裡\n",
    "          bigger = [i for i in x[1:] if i > pivot]\n",
    "          return quicksort(smaller) + [pivot] + quicksort(bigger)\n",
    "#將新的數列重整，若smaller[]與bigger[]中還有兩個或以上的數字，則重複分類一次，直到所有list中都只剩下一個數"
   ]
  },
  {
   "cell_type": "code",
   "execution_count": 5,
   "metadata": {},
   "outputs": [],
   "source": [
    "alist=[3,10,6,9,2,5,3,7,1]"
   ]
  },
  {
   "cell_type": "code",
   "execution_count": 6,
   "metadata": {},
   "outputs": [
    {
     "data": {
      "text/plain": [
       "[1, 2, 3, 3, 5, 6, 7, 9, 10]"
      ]
     },
     "execution_count": 6,
     "metadata": {},
     "output_type": "execute_result"
    }
   ],
   "source": [
    "quicksort(alist)"
   ]
  },
  {
   "cell_type": "code",
   "execution_count": null,
   "metadata": {},
   "outputs": [],
   "source": []
  }
 ],
 "metadata": {
  "kernelspec": {
   "display_name": "Python 3",
   "language": "python",
   "name": "python3"
  },
  "language_info": {
   "codemirror_mode": {
    "name": "ipython",
    "version": 3
   },
   "file_extension": ".py",
   "mimetype": "text/x-python",
   "name": "python",
   "nbconvert_exporter": "python",
   "pygments_lexer": "ipython3",
   "version": "3.7.1"
  }
 },
 "nbformat": 4,
 "nbformat_minor": 2
}
